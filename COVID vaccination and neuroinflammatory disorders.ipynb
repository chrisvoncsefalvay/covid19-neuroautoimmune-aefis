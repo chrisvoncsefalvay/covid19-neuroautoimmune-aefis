{
 "cells": [
  {
   "cell_type": "markdown",
   "source": [
    "# VAERS data reveals no increased risk of neuroautoimmune association from COVID-19 vaccines\n",
    "\n",
    "This notebook contains the calculations that underlie the above paper.\n"
   ],
   "metadata": {
    "collapsed": false,
    "pycharm": {
     "name": "#%% md\n"
    }
   }
  },
  {
   "cell_type": "markdown",
   "source": [
    "## Data preprocessing"
   ],
   "metadata": {
    "collapsed": false,
    "pycharm": {
     "name": "#%% md\n"
    }
   }
  },
  {
   "cell_type": "code",
   "execution_count": 1,
   "outputs": [],
   "source": [
    "import numpy as np\n",
    "import pandas as pd\n",
    "import statsmodels.api as sm\n",
    "from matplotlib import pyplot as plt\n",
    "import seaborn as sns\n",
    "from helpers.ingest_vaers import ingest\n",
    "import warnings\n",
    "\n",
    "warnings.filterwarnings('ignore')"
   ],
   "metadata": {
    "collapsed": false,
    "pycharm": {
     "name": "#%%\n"
    }
   }
  },
  {
   "cell_type": "code",
   "execution_count": 2,
   "outputs": [],
   "source": [
    "vaers_data = ingest(2021, 2020, 2019, 2018, 2017, 2016, 2015, path=\"data/\")"
   ],
   "metadata": {
    "collapsed": false,
    "pycharm": {
     "name": "#%%\n"
    }
   }
  },
  {
   "cell_type": "code",
   "execution_count": 3,
   "outputs": [],
   "source": [
    "vaers_data = vaers_data[[\"VAERS_ID\", \"SYMPTOM\", \"VAX_TYPE\", \"AGE_YRS\", \"SEX\"]]\n",
    "\n",
    "NEUR_SYMPTOMS = (\"Demyelinating polyneuropathy\",\n",
    "                 \"Immune-mediated neuropathy\",\n",
    "                 \"Axonal neuropathy\",\n",
    "                 \"Axonal and demyelinating neuropathy\",\n",
    "                 \"Chronic inflammatory demyelinating polyradiculoneuropathy\",\n",
    "                 \"Subacute inflammatory demyelinating polyradiculoneuropathy\",\n",
    "                 \"Autoimmune neuropathy\",\n",
    "                 \"Autonomic neuropathy\",\n",
    "                 \"Guillain-Barre syndrome\",\n",
    "                 \"Acute disseminated encephalomyelitis\",\n",
    "                 \"Demyelinating polyneuropathy\",\n",
    "                 \"Neuromyelitis optica spectrum disorder\",\n",
    "                 \"Neuromyelitis optica\",\n",
    "                 \"Myelitis transverse\",\n",
    "                 \"Multiple sclerosis relapse\",\n",
    "                 \"Multiple sclerosis\",\n",
    "                 \"Relapsing multiple sclerosis\",\n",
    "                 \"Progressive multiple sclerosis\",\n",
    "                 \"Relapsing-remitting multiple sclerosis\",\n",
    "                 \"Optic neuritis\",\n",
    "                 \"Immune-mediated encephalitis\",\n",
    "                 \"Autoimmune encephalopathy\",\n",
    "                 \"Encephalitis autoimmune\",\n",
    "                 \"Autoimmune demyelinating disease\")\n",
    "\n",
    "vaers_data[\"IS_COVID_VACCINE\"] = (vaers_data.VAX_TYPE == \"COVID19\").astype(int)\n",
    "vaers_data[\"IS_NEUROINFLAMMATORY\"] = vaers_data[\"SYMPTOM\"].isin(NEUR_SYMPTOMS).astype(int)"
   ],
   "metadata": {
    "collapsed": false,
    "pycharm": {
     "name": "#%%\n"
    }
   }
  },
  {
   "cell_type": "markdown",
   "source": [
    "## Creating vaccine type level contingency table"
   ],
   "metadata": {
    "collapsed": false,
    "pycharm": {
     "name": "#%% md\n"
    }
   }
  },
  {
   "cell_type": "code",
   "source": [
    "df = vaers_data[[\"VAX_TYPE\", \"IS_NEUROINFLAMMATORY\"]]\n",
    "xt = pd.crosstab(df.VAX_TYPE, df.IS_NEUROINFLAMMATORY).rename(columns={0: \"No\", 1: \"Yes\"})"
   ],
   "metadata": {
    "collapsed": false,
    "pycharm": {
     "name": "#%%\n"
    }
   },
   "execution_count": 18,
   "outputs": []
  },
  {
   "cell_type": "code",
   "execution_count": 19,
   "outputs": [
    {
     "data": {
      "text/plain": "IS_NEUROINFLAMMATORY      No  Yes\nVAX_TYPE                         \n6VAX-F                   218    0\nADEN                       2    0\nADEN_4_7                 457   11\nANTH                    5724   10\nBCG                      101    0\n...                      ...  ...\nTYP                     7704   11\nUNK                    22373   38\nVARCEL                 51735   25\nVARZOS                229879  218\nYF                      3020    6\n\n[92 rows x 2 columns]",
      "text/html": "<div>\n<style scoped>\n    .dataframe tbody tr th:only-of-type {\n        vertical-align: middle;\n    }\n\n    .dataframe tbody tr th {\n        vertical-align: top;\n    }\n\n    .dataframe thead th {\n        text-align: right;\n    }\n</style>\n<table border=\"1\" class=\"dataframe\">\n  <thead>\n    <tr style=\"text-align: right;\">\n      <th>IS_NEUROINFLAMMATORY</th>\n      <th>No</th>\n      <th>Yes</th>\n    </tr>\n    <tr>\n      <th>VAX_TYPE</th>\n      <th></th>\n      <th></th>\n    </tr>\n  </thead>\n  <tbody>\n    <tr>\n      <th>6VAX-F</th>\n      <td>218</td>\n      <td>0</td>\n    </tr>\n    <tr>\n      <th>ADEN</th>\n      <td>2</td>\n      <td>0</td>\n    </tr>\n    <tr>\n      <th>ADEN_4_7</th>\n      <td>457</td>\n      <td>11</td>\n    </tr>\n    <tr>\n      <th>ANTH</th>\n      <td>5724</td>\n      <td>10</td>\n    </tr>\n    <tr>\n      <th>BCG</th>\n      <td>101</td>\n      <td>0</td>\n    </tr>\n    <tr>\n      <th>...</th>\n      <td>...</td>\n      <td>...</td>\n    </tr>\n    <tr>\n      <th>TYP</th>\n      <td>7704</td>\n      <td>11</td>\n    </tr>\n    <tr>\n      <th>UNK</th>\n      <td>22373</td>\n      <td>38</td>\n    </tr>\n    <tr>\n      <th>VARCEL</th>\n      <td>51735</td>\n      <td>25</td>\n    </tr>\n    <tr>\n      <th>VARZOS</th>\n      <td>229879</td>\n      <td>218</td>\n    </tr>\n    <tr>\n      <th>YF</th>\n      <td>3020</td>\n      <td>6</td>\n    </tr>\n  </tbody>\n</table>\n<p>92 rows × 2 columns</p>\n</div>"
     },
     "execution_count": 19,
     "metadata": {},
     "output_type": "execute_result"
    }
   ],
   "source": [
    "xt"
   ],
   "metadata": {
    "collapsed": false,
    "pycharm": {
     "name": "#%%\n"
    }
   }
  },
  {
   "cell_type": "code",
   "execution_count": 63,
   "outputs": [],
   "source": [
    "odds_ratios = pd.DataFrame(columns=[\"OR\", \"CI_lower_bound\", \"CI_upper_bound\"], index=xt.index)\n",
    "\n",
    "for idx, row in enumerate(xt.index):\n",
    "    a = xt.loc[row][\"Yes\"].sum()\n",
    "    b = xt.loc[row][\"No\"].sum()\n",
    "    c = xt.drop(row, axis=0)[\"Yes\"].sum()\n",
    "    d = xt.drop(row, axis=0)[\"No\"].sum()\n",
    "    SE = np.sqrt(1/a + 1/b + 1/c + 1/d)\n",
    "    OR = (a*d)/(c*b)\n",
    "    odds_ratios[\"OR\"].loc[row] = OR\n",
    "    odds_ratios[\"CI_lower_bound\"].loc[row] = np.e ** (np.log(OR) - 1.96 * SE)\n",
    "    odds_ratios[\"CI_upper_bound\"].loc[row] = np.e ** (np.log(OR) + 1.96 * SE)\n"
   ],
   "metadata": {
    "collapsed": false,
    "pycharm": {
     "name": "#%%\n"
    }
   }
  },
  {
   "cell_type": "code",
   "execution_count": 72,
   "outputs": [
    {
     "data": {
      "text/plain": "    Vaccine type        variable       value\n0         6VAX-F              OR         0.0\n1           EBZR              OR         0.0\n2             RV              OR         0.0\n3            RUB              OR         0.0\n4          PNC10              OR         0.0\n..           ...             ...         ...\n271    FLU(H1N1)  CI_upper_bound    50.13833\n272     ADEN_4_7  CI_upper_bound    44.12151\n273        FLUN3  CI_upper_bound   39.449787\n274   FLUN(H1N1)  CI_upper_bound  105.759081\n275   FLUX(H1N1)  CI_upper_bound   71.734853\n\n[276 rows x 3 columns]",
      "text/html": "<div>\n<style scoped>\n    .dataframe tbody tr th:only-of-type {\n        vertical-align: middle;\n    }\n\n    .dataframe tbody tr th {\n        vertical-align: top;\n    }\n\n    .dataframe thead th {\n        text-align: right;\n    }\n</style>\n<table border=\"1\" class=\"dataframe\">\n  <thead>\n    <tr style=\"text-align: right;\">\n      <th></th>\n      <th>Vaccine type</th>\n      <th>variable</th>\n      <th>value</th>\n    </tr>\n  </thead>\n  <tbody>\n    <tr>\n      <th>0</th>\n      <td>6VAX-F</td>\n      <td>OR</td>\n      <td>0.0</td>\n    </tr>\n    <tr>\n      <th>1</th>\n      <td>EBZR</td>\n      <td>OR</td>\n      <td>0.0</td>\n    </tr>\n    <tr>\n      <th>2</th>\n      <td>RV</td>\n      <td>OR</td>\n      <td>0.0</td>\n    </tr>\n    <tr>\n      <th>3</th>\n      <td>RUB</td>\n      <td>OR</td>\n      <td>0.0</td>\n    </tr>\n    <tr>\n      <th>4</th>\n      <td>PNC10</td>\n      <td>OR</td>\n      <td>0.0</td>\n    </tr>\n    <tr>\n      <th>...</th>\n      <td>...</td>\n      <td>...</td>\n      <td>...</td>\n    </tr>\n    <tr>\n      <th>271</th>\n      <td>FLU(H1N1)</td>\n      <td>CI_upper_bound</td>\n      <td>50.13833</td>\n    </tr>\n    <tr>\n      <th>272</th>\n      <td>ADEN_4_7</td>\n      <td>CI_upper_bound</td>\n      <td>44.12151</td>\n    </tr>\n    <tr>\n      <th>273</th>\n      <td>FLUN3</td>\n      <td>CI_upper_bound</td>\n      <td>39.449787</td>\n    </tr>\n    <tr>\n      <th>274</th>\n      <td>FLUN(H1N1)</td>\n      <td>CI_upper_bound</td>\n      <td>105.759081</td>\n    </tr>\n    <tr>\n      <th>275</th>\n      <td>FLUX(H1N1)</td>\n      <td>CI_upper_bound</td>\n      <td>71.734853</td>\n    </tr>\n  </tbody>\n</table>\n<p>276 rows × 3 columns</p>\n</div>"
     },
     "execution_count": 72,
     "metadata": {},
     "output_type": "execute_result"
    }
   ],
   "source": [],
   "metadata": {
    "collapsed": false,
    "pycharm": {
     "name": "#%%\n"
    }
   }
  },
  {
   "cell_type": "code",
   "execution_count": 126,
   "outputs": [
    {
     "data": {
      "text/plain": "[<matplotlib.lines.Line2D at 0x7fcbc542fc50>]"
     },
     "execution_count": 126,
     "metadata": {},
     "output_type": "execute_result"
    },
    {
     "data": {
      "text/plain": "<Figure size 864x720 with 1 Axes>",
      "image/png": "[encoded data removed]"
     },
     "metadata": {
      "needs_background": "light"
     },
     "output_type": "display_data"
    }
   ],
   "source": [
    "SHOW_VACCINES = ()\n",
    "\n",
    "odds_ratios_filtered = odds_ratios.loc[[\"COVID19\", \"DTAP\", \"HIBV\", \"MMR\", \"MENB\", \"HPV4\", \"HPV9\", \"FLU3\", \"FLU4\", \"IPV\", \"HEP\", \"VARZOS\", \"PNC13\", \"HEPAB\", \"ADEN_4_7\", \"FLU(H1N1)\"]].sort_values(\"OR\")\n",
    "odds_ratios_filtered[\"Vaccine type\"] = odds_ratios_filtered.index\n",
    "\n",
    "f, ax = plt.subplots(figsize=(12, 10))\n",
    "ax.set_xscale(\"log\")\n",
    "\n",
    "for idx, val in enumerate(odds_ratios_filtered.index):\n",
    "    plt.plot([odds_ratios_filtered.iloc[idx][\"CI_lower_bound\"], odds_ratios_filtered.iloc[idx][\"CI_upper_bound\"]], [idx, idx], linewidth=2, alpha = 0.66, color=\"#333\")\n",
    "\n",
    "grid = sns.pointplot(x = \"value\",\n",
    "              y = \"Vaccine type\",\n",
    "              hue = \"variable\",\n",
    "              join = False,\n",
    "              jitter = False,\n",
    "              ci = \"sd\",\n",
    "              err_style = \"bars\",\n",
    "              palette=\"YlGnBu_d\",\n",
    "              data = odds_ratios_filtered.melt(id_vars=[\"Vaccine type\"], value_vars=[\"OR\", \"CI_lower_bound\", \"CI_upper_bound\"]))\n",
    "\n",
    "plt.plot([odds_ratios_filtered.loc[\"COVID19\"][\"OR\"], odds_ratios_filtered.loc[\"COVID19\"][\"OR\"]],\n",
    "         [0, len(odds_ratios_filtered.index)],\n",
    "         \"r--\",\n",
    "         alpha = 0.4,)\n"
   ],
   "metadata": {
    "collapsed": false,
    "pycharm": {
     "name": "#%%\n"
    }
   }
  },
  {
   "cell_type": "code",
   "execution_count": 111,
   "outputs": [
    {
     "data": {
      "text/plain": "                  OR CI_lower_bound CI_upper_bound Vaccine type\nVAX_TYPE                                                       \nCOVID19     0.291921       0.266506        0.31976      COVID19\nDTAP        0.421676       0.219114       0.811495         DTAP\nHIBV        0.541793       0.320361       0.916279         HIBV\nMMR          0.63292       0.436045       0.918686          MMR\nMENB        0.862181        0.55516       1.338993         MENB\nVARZOS      0.946003       0.823273       1.087029       VARZOS\nHPV9         1.17648       0.886565       1.561199         HPV9\nHEP         1.278334       0.927721       1.761453          HEP\nIPV         1.293237         0.7496        2.23114          IPV\nPNC13       1.325349       1.079556       1.627104        PNC13\nHPV4        2.628116       2.015877       3.426298         HPV4\nFLU4        3.113002       2.761362       3.509421         FLU4\nFLU3         3.92166       3.460059       4.444841         FLU3\nHEPAB       4.472558       2.732762       7.319984        HEPAB\nFLU(H1N1)  16.014854       5.115359       50.13833    FLU(H1N1)\nADEN_4_7   24.231058      13.307436       44.12151     ADEN_4_7",
      "text/html": "<div>\n<style scoped>\n    .dataframe tbody tr th:only-of-type {\n        vertical-align: middle;\n    }\n\n    .dataframe tbody tr th {\n        vertical-align: top;\n    }\n\n    .dataframe thead th {\n        text-align: right;\n    }\n</style>\n<table border=\"1\" class=\"dataframe\">\n  <thead>\n    <tr style=\"text-align: right;\">\n      <th></th>\n      <th>OR</th>\n      <th>CI_lower_bound</th>\n      <th>CI_upper_bound</th>\n      <th>Vaccine type</th>\n    </tr>\n    <tr>\n      <th>VAX_TYPE</th>\n      <th></th>\n      <th></th>\n      <th></th>\n      <th></th>\n    </tr>\n  </thead>\n  <tbody>\n    <tr>\n      <th>COVID19</th>\n      <td>0.291921</td>\n      <td>0.266506</td>\n      <td>0.31976</td>\n      <td>COVID19</td>\n    </tr>\n    <tr>\n      <th>DTAP</th>\n      <td>0.421676</td>\n      <td>0.219114</td>\n      <td>0.811495</td>\n      <td>DTAP</td>\n    </tr>\n    <tr>\n      <th>HIBV</th>\n      <td>0.541793</td>\n      <td>0.320361</td>\n      <td>0.916279</td>\n      <td>HIBV</td>\n    </tr>\n    <tr>\n      <th>MMR</th>\n      <td>0.63292</td>\n      <td>0.436045</td>\n      <td>0.918686</td>\n      <td>MMR</td>\n    </tr>\n    <tr>\n      <th>MENB</th>\n      <td>0.862181</td>\n      <td>0.55516</td>\n      <td>1.338993</td>\n      <td>MENB</td>\n    </tr>\n    <tr>\n      <th>VARZOS</th>\n      <td>0.946003</td>\n      <td>0.823273</td>\n      <td>1.087029</td>\n      <td>VARZOS</td>\n    </tr>\n    <tr>\n      <th>HPV9</th>\n      <td>1.17648</td>\n      <td>0.886565</td>\n      <td>1.561199</td>\n      <td>HPV9</td>\n    </tr>\n    <tr>\n      <th>HEP</th>\n      <td>1.278334</td>\n      <td>0.927721</td>\n      <td>1.761453</td>\n      <td>HEP</td>\n    </tr>\n    <tr>\n      <th>IPV</th>\n      <td>1.293237</td>\n      <td>0.7496</td>\n      <td>2.23114</td>\n      <td>IPV</td>\n    </tr>\n    <tr>\n      <th>PNC13</th>\n      <td>1.325349</td>\n      <td>1.079556</td>\n      <td>1.627104</td>\n      <td>PNC13</td>\n    </tr>\n    <tr>\n      <th>HPV4</th>\n      <td>2.628116</td>\n      <td>2.015877</td>\n      <td>3.426298</td>\n      <td>HPV4</td>\n    </tr>\n    <tr>\n      <th>FLU4</th>\n      <td>3.113002</td>\n      <td>2.761362</td>\n      <td>3.509421</td>\n      <td>FLU4</td>\n    </tr>\n    <tr>\n      <th>FLU3</th>\n      <td>3.92166</td>\n      <td>3.460059</td>\n      <td>4.444841</td>\n      <td>FLU3</td>\n    </tr>\n    <tr>\n      <th>HEPAB</th>\n      <td>4.472558</td>\n      <td>2.732762</td>\n      <td>7.319984</td>\n      <td>HEPAB</td>\n    </tr>\n    <tr>\n      <th>FLU(H1N1)</th>\n      <td>16.014854</td>\n      <td>5.115359</td>\n      <td>50.13833</td>\n      <td>FLU(H1N1)</td>\n    </tr>\n    <tr>\n      <th>ADEN_4_7</th>\n      <td>24.231058</td>\n      <td>13.307436</td>\n      <td>44.12151</td>\n      <td>ADEN_4_7</td>\n    </tr>\n  </tbody>\n</table>\n</div>"
     },
     "execution_count": 111,
     "metadata": {},
     "output_type": "execute_result"
    }
   ],
   "source": [
    "odds_ratios_filtered"
   ],
   "metadata": {
    "collapsed": false,
    "pycharm": {
     "name": "#%%\n"
    }
   }
  },
  {
   "cell_type": "code",
   "execution_count": null,
   "outputs": [],
   "source": [],
   "metadata": {
    "collapsed": false,
    "pycharm": {
     "name": "#%%\n"
    }
   }
  }
 ],
 "metadata": {
  "kernelspec": {
   "display_name": "Python 3",
   "language": "python",
   "name": "python3"
  },
  "language_info": {
   "codemirror_mode": {
    "name": "ipython",
    "version": 2
   },
   "file_extension": ".py",
   "mimetype": "text/x-python",
   "name": "python",
   "nbconvert_exporter": "python",
   "pygments_lexer": "ipython2",
   "version": "2.7.6"
  }
 },
 "nbformat": 4,
 "nbformat_minor": 0
}